{
  "nbformat": 4,
  "nbformat_minor": 0,
  "metadata": {
    "colab": {
      "provenance": []
    },
    "kernelspec": {
      "name": "python3",
      "display_name": "Python 3"
    },
    "language_info": {
      "name": "python"
    }
  },
  "cells": [
    {
      "cell_type": "markdown",
      "source": [
        "## Installing Dependencies"
      ],
      "metadata": {
        "id": "uf5WxoXnrYs_"
      }
    },
    {
      "cell_type": "code",
      "execution_count": 1,
      "metadata": {
        "colab": {
          "base_uri": "https://localhost:8080/"
        },
        "id": "Pa8s_sM-ak0H",
        "outputId": "d1ad22cf-4938-4f61-ca23-826ace16fde8"
      },
      "outputs": [
        {
          "output_type": "stream",
          "name": "stdout",
          "text": [
            "Collecting pdf2image\n",
            "  Downloading pdf2image-1.17.0-py3-none-any.whl.metadata (6.2 kB)\n",
            "Requirement already satisfied: pillow in /usr/local/lib/python3.11/dist-packages (from pdf2image) (11.1.0)\n",
            "Downloading pdf2image-1.17.0-py3-none-any.whl (11 kB)\n",
            "Installing collected packages: pdf2image\n",
            "Successfully installed pdf2image-1.17.0\n"
          ]
        }
      ],
      "source": [
        "!pip install pdf2image"
      ]
    },
    {
      "cell_type": "code",
      "source": [
        "!apt install poppler-utils"
      ],
      "metadata": {
        "colab": {
          "base_uri": "https://localhost:8080/"
        },
        "id": "pUz3aGqcia9o",
        "outputId": "d4437f67-659c-44f3-9129-92d44f923b7b"
      },
      "execution_count": 2,
      "outputs": [
        {
          "output_type": "stream",
          "name": "stdout",
          "text": [
            "Reading package lists... Done\n",
            "Building dependency tree... Done\n",
            "Reading state information... Done\n",
            "The following NEW packages will be installed:\n",
            "  poppler-utils\n",
            "0 upgraded, 1 newly installed, 0 to remove and 29 not upgraded.\n",
            "Need to get 186 kB of archives.\n",
            "After this operation, 696 kB of additional disk space will be used.\n",
            "Get:1 http://archive.ubuntu.com/ubuntu jammy-updates/main amd64 poppler-utils amd64 22.02.0-2ubuntu0.6 [186 kB]\n",
            "Fetched 186 kB in 1s (266 kB/s)\n",
            "Selecting previously unselected package poppler-utils.\n",
            "(Reading database ... 124947 files and directories currently installed.)\n",
            "Preparing to unpack .../poppler-utils_22.02.0-2ubuntu0.6_amd64.deb ...\n",
            "Unpacking poppler-utils (22.02.0-2ubuntu0.6) ...\n",
            "Setting up poppler-utils (22.02.0-2ubuntu0.6) ...\n",
            "Processing triggers for man-db (2.10.2-1) ...\n"
          ]
        }
      ]
    },
    {
      "cell_type": "markdown",
      "source": [
        "## Global Variables"
      ],
      "metadata": {
        "id": "IUCLlzgXrdIo"
      }
    },
    {
      "cell_type": "code",
      "source": [
        "import json\n",
        "from google import genai\n",
        "from pdf2image import convert_from_path\n",
        "import PIL\n",
        "import pandas as pd"
      ],
      "metadata": {
        "id": "246wRjkVX8FJ"
      },
      "execution_count": 3,
      "outputs": []
    },
    {
      "cell_type": "code",
      "source": [
        "from google.colab import userdata\n",
        "\n",
        "api_key = userdata.get('GOOGLE_API_KEY')"
      ],
      "metadata": {
        "id": "upU4Qf_wYG-K"
      },
      "execution_count": 4,
      "outputs": []
    },
    {
      "cell_type": "code",
      "source": [
        "client = genai.Client(api_key=api_key)"
      ],
      "metadata": {
        "id": "6pOeeMVdYOmc"
      },
      "execution_count": 5,
      "outputs": []
    },
    {
      "cell_type": "markdown",
      "source": [
        "## Utility Functions"
      ],
      "metadata": {
        "id": "5CR5nDbqrhYg"
      }
    },
    {
      "cell_type": "code",
      "source": [
        "def convert_str_to_json(str):\n",
        "  return json.loads(str.replace(\"```json\", \"\").replace(\"```\", \"\"))\n",
        "\n",
        "def save_json(data, path):\n",
        "  with open(path, 'w') as f:\n",
        "    json.dump(data, f)\n",
        "\n",
        "  return path"
      ],
      "metadata": {
        "id": "3eAosSP-jdSQ"
      },
      "execution_count": 6,
      "outputs": []
    },
    {
      "cell_type": "code",
      "source": [
        "def json_to_table(data):\n",
        "  df = pd.DataFrame(data)\n",
        "  return df"
      ],
      "metadata": {
        "id": "omxhGTtSsTYo"
      },
      "execution_count": 7,
      "outputs": []
    },
    {
      "cell_type": "markdown",
      "source": [
        "## Prompts"
      ],
      "metadata": {
        "id": "UQRqAgsGrjNo"
      }
    },
    {
      "cell_type": "code",
      "source": [
        "extraction_prompt = \"\"\"\n",
        "You are given an image of an invoice. Extract as much information as you can infer from the invoice and return the content of the invoice in the following json format:\n",
        "\n",
        "{\n",
        "  \"table_content\": [\n",
        "    {\n",
        "      <column_name>: \"<column_value>\",\n",
        "      ...\n",
        "    }\n",
        "  ],\n",
        "  \"buyer_details\" : {\n",
        "    <buyer_detail_name>: \"<buyer_detail_value>\",\n",
        "    ...\n",
        "  },\n",
        "  \"seller_details\" : {\n",
        "    <seller_detail_name>: \"<seller_detail_value>\",\n",
        "    ...\n",
        "  },\n",
        "  \"invoice_details\" : {\n",
        "    <invoice_detail_name>: \"<invoice_detail_value>\",\n",
        "    ...\n",
        "  }\n",
        "}\n",
        "\"\"\""
      ],
      "metadata": {
        "id": "mSzP8Zm8fEBw"
      },
      "execution_count": 8,
      "outputs": []
    },
    {
      "cell_type": "code",
      "source": [
        "validation_prompt = \"\"\"\n",
        "You are given an image of an invoice and the details extracted from it. Evaluate the extraction quality based on the following criteria:\n",
        "1) Word Error Rate (WER)\n",
        "2) Character Error Rate (CER)\n",
        "\n",
        "**Step 1:** Compute WER using Python code internally:\n",
        "   WER = (Number of word errors) / (Total words in reference text)\n",
        "\n",
        "**Step 2:** Compute CER using Python code internally:\n",
        "   CER = (Number of character errors) / (Total characters in reference text)\n",
        "\n",
        "Do not output any explanations, intermediate calculations, or code. **Only output WER and CER as two numerical values in the json format:**\n",
        "WER: <value>\n",
        "CER: <value>\n",
        "\n",
        "\n",
        "Extracted Invoice Details: {}\n",
        "\"\"\""
      ],
      "metadata": {
        "id": "LNp2FNksQ4Sz"
      },
      "execution_count": 60,
      "outputs": []
    },
    {
      "cell_type": "markdown",
      "source": [
        "## Data Extraction"
      ],
      "metadata": {
        "id": "oDLx4RPWrncw"
      }
    },
    {
      "cell_type": "code",
      "source": [
        "class DataExtractor:\n",
        "  def __init__(self, file_save_path=\"/content/\"):\n",
        "    self.file_save_path = file_save_path\n",
        "\n",
        "  def __call__(self, path, prompt):\n",
        "    file_type = self._check_file_type(path)\n",
        "\n",
        "    if file_type == 'pdf':\n",
        "      image_path = self._convert_pdf_to_images(path, self.file_save_path)\n",
        "\n",
        "    else:\n",
        "      image_path = path\n",
        "\n",
        "    img = PIL.Image.open(image_path)\n",
        "\n",
        "    response = client.models.generate_content(\n",
        "        model = \"gemini-2.0-flash\",\n",
        "        contents=[prompt, img],\n",
        "        )\n",
        "\n",
        "    return response.text\n",
        "\n",
        "  def _check_file_type(self, path):\n",
        "    if path.endswith('.pdf'):\n",
        "      return 'pdf'\n",
        "\n",
        "    elif path.endswith('.jpg') or path.endswith('.png'):\n",
        "      return 'image'\n",
        "\n",
        "    else:\n",
        "      raise ValueError('Unsupported file type')\n",
        "\n",
        "  def _convert_pdf_to_images(self, pdf_path, image_path, return_page=0):\n",
        "    pdf = convert_from_path(pdf_path)\n",
        "\n",
        "    for i, page in enumerate(pdf):\n",
        "      page.save(f'{image_path}/page_{i}.png', 'PNG')\n",
        "\n",
        "    return f'{image_path}/page_{return_page}.png'\n",
        "\n",
        "\n",
        "agent = DataExtractor()"
      ],
      "metadata": {
        "id": "3424QL3PYri3"
      },
      "execution_count": 48,
      "outputs": []
    },
    {
      "cell_type": "code",
      "source": [
        "data = agent(\n",
        "    path = \"/content/drive/MyDrive/Bryckel AI/invoices.pdf\",\n",
        "    prompt = extraction_prompt\n",
        "    )\n",
        "\n",
        "refined = convert_str_to_json(data)"
      ],
      "metadata": {
        "id": "6P7RB6rRfSFa"
      },
      "execution_count": 49,
      "outputs": []
    },
    {
      "cell_type": "code",
      "source": [
        "display(refined)\n",
        "\n",
        "save_json(refined, \"/content/invoice_data.json\")"
      ],
      "metadata": {
        "colab": {
          "base_uri": "https://localhost:8080/",
          "height": 938
        },
        "id": "WM2lPTw0jt2v",
        "outputId": "433e898c-de13-47b9-c4b0-7452d3d4fac5"
      },
      "execution_count": 50,
      "outputs": [
        {
          "output_type": "display_data",
          "data": {
            "text/plain": [
              "{'table_content': [{'Description': '[1356578] WLY602040 400 mAh 3.7V single cell Rechargeable LiPo Battery',\n",
              "   'HSN': '85076000',\n",
              "   'Rate': '160.170000',\n",
              "   'Qty': '4.00',\n",
              "   'Disc': '0.00',\n",
              "   'Amount': '640.68',\n",
              "   'IGST': '115.32 (18.0%)',\n",
              "   'Total': '756.00'},\n",
              "  {'Description': '[44255] 3PI miniQ Car wheel Tyre 44mm N20 DC Gear Motor Wheel',\n",
              "   'HSN': '84799090',\n",
              "   'Rate': '43.220000',\n",
              "   'Qty': '4.00',\n",
              "   'Disc': '0.00',\n",
              "   'Amount': '172.88',\n",
              "   'IGST': '31.12 (18.0%)',\n",
              "   'Total': '204.00'},\n",
              "  {'Description': '[476675] N20 6V 150RPM Micro Metal Gear Motor With Encoder',\n",
              "   'HSN': '85013111',\n",
              "   'Rate': '397.457500',\n",
              "   'Qty': '8.00',\n",
              "   'Disc': '0.00',\n",
              "   'Amount': '3.179.66',\n",
              "   'IGST': '572.34 (18.0%)',\n",
              "   'Total': '3,752)'},\n",
              "  {'Description': '[std_shipping] STANDARD SHIPPING',\n",
              "   'HSN': '996819',\n",
              "   'Rate': '0.000000',\n",
              "   'Qty': '1.00',\n",
              "   'Disc': '0.00',\n",
              "   'Amount': '0.00',\n",
              "   'IGST': '0.00 (18.0%)',\n",
              "   'Total': '0.00'}],\n",
              " 'buyer_details': {'Customer_Name': 'Vansh Sachdeva',\n",
              "  'Address': 'Indraprastha Appartments\\nPocket-3, Sector-12\\nSouth West Delhi, 110078\\nDelhi, DL,\\nIndia',\n",
              "  'Phone': '9910593396',\n",
              "  'Email': 'vanshsachdeva2005@gmail.com',\n",
              "  'Place_of_Supply': '07 - Delhi'},\n",
              " 'seller_details': {'Company_Name': 'MACFOS LIMITED',\n",
              "  'Address': '(Formerly known as MACFOS PVT LTD)\\nSumant Building, Dynamic Logistics Trade Park\\nSurvey No. 78/1 Dighi, Bhosari Alandi Road Pune 411\\nMaharashtra MH\\nIndia',\n",
              "  'Phone': '02068197600',\n",
              "  'Email': 'info@robu.in',\n",
              "  'GSTIN': '27AALCM3536H1ZA'},\n",
              " 'invoice_details': {'Invoice_Number': 'INV2425/315652',\n",
              "  'Invoice_Date': '05/02/2025',\n",
              "  'Sale_Order': '2526374',\n",
              "  'Reference': 'INV2425/315652',\n",
              "  'Subtotal': '3,993.2',\n",
              "  'Taxes': '718.78',\n",
              "  'Total': '4,712.00',\n",
              "  'Amount_in_Words': 'FOUR THOUSAND, SEVEN HUNDRED AND TWELVE INDIAN RUPEE',\n",
              "  'Payment_Terms': 'Immediate Payment'}}"
            ]
          },
          "metadata": {}
        },
        {
          "output_type": "execute_result",
          "data": {
            "text/plain": [
              "'/content/invoice_data.json'"
            ],
            "application/vnd.google.colaboratory.intrinsic+json": {
              "type": "string"
            }
          },
          "metadata": {},
          "execution_count": 50
        }
      ]
    },
    {
      "cell_type": "code",
      "source": [
        "json_to_table(refined['table_content'])"
      ],
      "metadata": {
        "colab": {
          "base_uri": "https://localhost:8080/",
          "height": 175
        },
        "id": "9KELtbbhm8Xs",
        "outputId": "b6a1d015-9420-44b9-b07d-f10778f66cbc"
      },
      "execution_count": 51,
      "outputs": [
        {
          "output_type": "execute_result",
          "data": {
            "text/plain": [
              "                                         Description       HSN        Rate  \\\n",
              "0  [1356578] WLY602040 400 mAh 3.7V single cell R...  85076000  160.170000   \n",
              "1  [44255] 3PI miniQ Car wheel Tyre 44mm N20 DC G...  84799090   43.220000   \n",
              "2  [476675] N20 6V 150RPM Micro Metal Gear Motor ...  85013111  397.457500   \n",
              "3                   [std_shipping] STANDARD SHIPPING    996819    0.000000   \n",
              "\n",
              "    Qty  Disc    Amount            IGST   Total  \n",
              "0  4.00  0.00    640.68  115.32 (18.0%)  756.00  \n",
              "1  4.00  0.00    172.88   31.12 (18.0%)  204.00  \n",
              "2  8.00  0.00  3.179.66  572.34 (18.0%)  3,752)  \n",
              "3  1.00  0.00      0.00    0.00 (18.0%)    0.00  "
            ],
            "text/html": [
              "\n",
              "  <div id=\"df-b15f87af-0d26-4aa5-9039-f4b8cb55c285\" class=\"colab-df-container\">\n",
              "    <div>\n",
              "<style scoped>\n",
              "    .dataframe tbody tr th:only-of-type {\n",
              "        vertical-align: middle;\n",
              "    }\n",
              "\n",
              "    .dataframe tbody tr th {\n",
              "        vertical-align: top;\n",
              "    }\n",
              "\n",
              "    .dataframe thead th {\n",
              "        text-align: right;\n",
              "    }\n",
              "</style>\n",
              "<table border=\"1\" class=\"dataframe\">\n",
              "  <thead>\n",
              "    <tr style=\"text-align: right;\">\n",
              "      <th></th>\n",
              "      <th>Description</th>\n",
              "      <th>HSN</th>\n",
              "      <th>Rate</th>\n",
              "      <th>Qty</th>\n",
              "      <th>Disc</th>\n",
              "      <th>Amount</th>\n",
              "      <th>IGST</th>\n",
              "      <th>Total</th>\n",
              "    </tr>\n",
              "  </thead>\n",
              "  <tbody>\n",
              "    <tr>\n",
              "      <th>0</th>\n",
              "      <td>[1356578] WLY602040 400 mAh 3.7V single cell R...</td>\n",
              "      <td>85076000</td>\n",
              "      <td>160.170000</td>\n",
              "      <td>4.00</td>\n",
              "      <td>0.00</td>\n",
              "      <td>640.68</td>\n",
              "      <td>115.32 (18.0%)</td>\n",
              "      <td>756.00</td>\n",
              "    </tr>\n",
              "    <tr>\n",
              "      <th>1</th>\n",
              "      <td>[44255] 3PI miniQ Car wheel Tyre 44mm N20 DC G...</td>\n",
              "      <td>84799090</td>\n",
              "      <td>43.220000</td>\n",
              "      <td>4.00</td>\n",
              "      <td>0.00</td>\n",
              "      <td>172.88</td>\n",
              "      <td>31.12 (18.0%)</td>\n",
              "      <td>204.00</td>\n",
              "    </tr>\n",
              "    <tr>\n",
              "      <th>2</th>\n",
              "      <td>[476675] N20 6V 150RPM Micro Metal Gear Motor ...</td>\n",
              "      <td>85013111</td>\n",
              "      <td>397.457500</td>\n",
              "      <td>8.00</td>\n",
              "      <td>0.00</td>\n",
              "      <td>3.179.66</td>\n",
              "      <td>572.34 (18.0%)</td>\n",
              "      <td>3,752)</td>\n",
              "    </tr>\n",
              "    <tr>\n",
              "      <th>3</th>\n",
              "      <td>[std_shipping] STANDARD SHIPPING</td>\n",
              "      <td>996819</td>\n",
              "      <td>0.000000</td>\n",
              "      <td>1.00</td>\n",
              "      <td>0.00</td>\n",
              "      <td>0.00</td>\n",
              "      <td>0.00 (18.0%)</td>\n",
              "      <td>0.00</td>\n",
              "    </tr>\n",
              "  </tbody>\n",
              "</table>\n",
              "</div>\n",
              "    <div class=\"colab-df-buttons\">\n",
              "\n",
              "  <div class=\"colab-df-container\">\n",
              "    <button class=\"colab-df-convert\" onclick=\"convertToInteractive('df-b15f87af-0d26-4aa5-9039-f4b8cb55c285')\"\n",
              "            title=\"Convert this dataframe to an interactive table.\"\n",
              "            style=\"display:none;\">\n",
              "\n",
              "  <svg xmlns=\"http://www.w3.org/2000/svg\" height=\"24px\" viewBox=\"0 -960 960 960\">\n",
              "    <path d=\"M120-120v-720h720v720H120Zm60-500h600v-160H180v160Zm220 220h160v-160H400v160Zm0 220h160v-160H400v160ZM180-400h160v-160H180v160Zm440 0h160v-160H620v160ZM180-180h160v-160H180v160Zm440 0h160v-160H620v160Z\"/>\n",
              "  </svg>\n",
              "    </button>\n",
              "\n",
              "  <style>\n",
              "    .colab-df-container {\n",
              "      display:flex;\n",
              "      gap: 12px;\n",
              "    }\n",
              "\n",
              "    .colab-df-convert {\n",
              "      background-color: #E8F0FE;\n",
              "      border: none;\n",
              "      border-radius: 50%;\n",
              "      cursor: pointer;\n",
              "      display: none;\n",
              "      fill: #1967D2;\n",
              "      height: 32px;\n",
              "      padding: 0 0 0 0;\n",
              "      width: 32px;\n",
              "    }\n",
              "\n",
              "    .colab-df-convert:hover {\n",
              "      background-color: #E2EBFA;\n",
              "      box-shadow: 0px 1px 2px rgba(60, 64, 67, 0.3), 0px 1px 3px 1px rgba(60, 64, 67, 0.15);\n",
              "      fill: #174EA6;\n",
              "    }\n",
              "\n",
              "    .colab-df-buttons div {\n",
              "      margin-bottom: 4px;\n",
              "    }\n",
              "\n",
              "    [theme=dark] .colab-df-convert {\n",
              "      background-color: #3B4455;\n",
              "      fill: #D2E3FC;\n",
              "    }\n",
              "\n",
              "    [theme=dark] .colab-df-convert:hover {\n",
              "      background-color: #434B5C;\n",
              "      box-shadow: 0px 1px 3px 1px rgba(0, 0, 0, 0.15);\n",
              "      filter: drop-shadow(0px 1px 2px rgba(0, 0, 0, 0.3));\n",
              "      fill: #FFFFFF;\n",
              "    }\n",
              "  </style>\n",
              "\n",
              "    <script>\n",
              "      const buttonEl =\n",
              "        document.querySelector('#df-b15f87af-0d26-4aa5-9039-f4b8cb55c285 button.colab-df-convert');\n",
              "      buttonEl.style.display =\n",
              "        google.colab.kernel.accessAllowed ? 'block' : 'none';\n",
              "\n",
              "      async function convertToInteractive(key) {\n",
              "        const element = document.querySelector('#df-b15f87af-0d26-4aa5-9039-f4b8cb55c285');\n",
              "        const dataTable =\n",
              "          await google.colab.kernel.invokeFunction('convertToInteractive',\n",
              "                                                    [key], {});\n",
              "        if (!dataTable) return;\n",
              "\n",
              "        const docLinkHtml = 'Like what you see? Visit the ' +\n",
              "          '<a target=\"_blank\" href=https://colab.research.google.com/notebooks/data_table.ipynb>data table notebook</a>'\n",
              "          + ' to learn more about interactive tables.';\n",
              "        element.innerHTML = '';\n",
              "        dataTable['output_type'] = 'display_data';\n",
              "        await google.colab.output.renderOutput(dataTable, element);\n",
              "        const docLink = document.createElement('div');\n",
              "        docLink.innerHTML = docLinkHtml;\n",
              "        element.appendChild(docLink);\n",
              "      }\n",
              "    </script>\n",
              "  </div>\n",
              "\n",
              "\n",
              "<div id=\"df-abef1e97-cb8d-4718-8564-fb0169d5d078\">\n",
              "  <button class=\"colab-df-quickchart\" onclick=\"quickchart('df-abef1e97-cb8d-4718-8564-fb0169d5d078')\"\n",
              "            title=\"Suggest charts\"\n",
              "            style=\"display:none;\">\n",
              "\n",
              "<svg xmlns=\"http://www.w3.org/2000/svg\" height=\"24px\"viewBox=\"0 0 24 24\"\n",
              "     width=\"24px\">\n",
              "    <g>\n",
              "        <path d=\"M19 3H5c-1.1 0-2 .9-2 2v14c0 1.1.9 2 2 2h14c1.1 0 2-.9 2-2V5c0-1.1-.9-2-2-2zM9 17H7v-7h2v7zm4 0h-2V7h2v10zm4 0h-2v-4h2v4z\"/>\n",
              "    </g>\n",
              "</svg>\n",
              "  </button>\n",
              "\n",
              "<style>\n",
              "  .colab-df-quickchart {\n",
              "      --bg-color: #E8F0FE;\n",
              "      --fill-color: #1967D2;\n",
              "      --hover-bg-color: #E2EBFA;\n",
              "      --hover-fill-color: #174EA6;\n",
              "      --disabled-fill-color: #AAA;\n",
              "      --disabled-bg-color: #DDD;\n",
              "  }\n",
              "\n",
              "  [theme=dark] .colab-df-quickchart {\n",
              "      --bg-color: #3B4455;\n",
              "      --fill-color: #D2E3FC;\n",
              "      --hover-bg-color: #434B5C;\n",
              "      --hover-fill-color: #FFFFFF;\n",
              "      --disabled-bg-color: #3B4455;\n",
              "      --disabled-fill-color: #666;\n",
              "  }\n",
              "\n",
              "  .colab-df-quickchart {\n",
              "    background-color: var(--bg-color);\n",
              "    border: none;\n",
              "    border-radius: 50%;\n",
              "    cursor: pointer;\n",
              "    display: none;\n",
              "    fill: var(--fill-color);\n",
              "    height: 32px;\n",
              "    padding: 0;\n",
              "    width: 32px;\n",
              "  }\n",
              "\n",
              "  .colab-df-quickchart:hover {\n",
              "    background-color: var(--hover-bg-color);\n",
              "    box-shadow: 0 1px 2px rgba(60, 64, 67, 0.3), 0 1px 3px 1px rgba(60, 64, 67, 0.15);\n",
              "    fill: var(--button-hover-fill-color);\n",
              "  }\n",
              "\n",
              "  .colab-df-quickchart-complete:disabled,\n",
              "  .colab-df-quickchart-complete:disabled:hover {\n",
              "    background-color: var(--disabled-bg-color);\n",
              "    fill: var(--disabled-fill-color);\n",
              "    box-shadow: none;\n",
              "  }\n",
              "\n",
              "  .colab-df-spinner {\n",
              "    border: 2px solid var(--fill-color);\n",
              "    border-color: transparent;\n",
              "    border-bottom-color: var(--fill-color);\n",
              "    animation:\n",
              "      spin 1s steps(1) infinite;\n",
              "  }\n",
              "\n",
              "  @keyframes spin {\n",
              "    0% {\n",
              "      border-color: transparent;\n",
              "      border-bottom-color: var(--fill-color);\n",
              "      border-left-color: var(--fill-color);\n",
              "    }\n",
              "    20% {\n",
              "      border-color: transparent;\n",
              "      border-left-color: var(--fill-color);\n",
              "      border-top-color: var(--fill-color);\n",
              "    }\n",
              "    30% {\n",
              "      border-color: transparent;\n",
              "      border-left-color: var(--fill-color);\n",
              "      border-top-color: var(--fill-color);\n",
              "      border-right-color: var(--fill-color);\n",
              "    }\n",
              "    40% {\n",
              "      border-color: transparent;\n",
              "      border-right-color: var(--fill-color);\n",
              "      border-top-color: var(--fill-color);\n",
              "    }\n",
              "    60% {\n",
              "      border-color: transparent;\n",
              "      border-right-color: var(--fill-color);\n",
              "    }\n",
              "    80% {\n",
              "      border-color: transparent;\n",
              "      border-right-color: var(--fill-color);\n",
              "      border-bottom-color: var(--fill-color);\n",
              "    }\n",
              "    90% {\n",
              "      border-color: transparent;\n",
              "      border-bottom-color: var(--fill-color);\n",
              "    }\n",
              "  }\n",
              "</style>\n",
              "\n",
              "  <script>\n",
              "    async function quickchart(key) {\n",
              "      const quickchartButtonEl =\n",
              "        document.querySelector('#' + key + ' button');\n",
              "      quickchartButtonEl.disabled = true;  // To prevent multiple clicks.\n",
              "      quickchartButtonEl.classList.add('colab-df-spinner');\n",
              "      try {\n",
              "        const charts = await google.colab.kernel.invokeFunction(\n",
              "            'suggestCharts', [key], {});\n",
              "      } catch (error) {\n",
              "        console.error('Error during call to suggestCharts:', error);\n",
              "      }\n",
              "      quickchartButtonEl.classList.remove('colab-df-spinner');\n",
              "      quickchartButtonEl.classList.add('colab-df-quickchart-complete');\n",
              "    }\n",
              "    (() => {\n",
              "      let quickchartButtonEl =\n",
              "        document.querySelector('#df-abef1e97-cb8d-4718-8564-fb0169d5d078 button');\n",
              "      quickchartButtonEl.style.display =\n",
              "        google.colab.kernel.accessAllowed ? 'block' : 'none';\n",
              "    })();\n",
              "  </script>\n",
              "</div>\n",
              "\n",
              "    </div>\n",
              "  </div>\n"
            ],
            "application/vnd.google.colaboratory.intrinsic+json": {
              "type": "dataframe",
              "summary": "{\n  \"name\": \"json_to_table(refined['table_content'])\",\n  \"rows\": 4,\n  \"fields\": [\n    {\n      \"column\": \"Description\",\n      \"properties\": {\n        \"dtype\": \"string\",\n        \"num_unique_values\": 4,\n        \"samples\": [\n          \"[44255] 3PI miniQ Car wheel Tyre 44mm N20 DC Gear Motor Wheel\",\n          \"[std_shipping] STANDARD SHIPPING\",\n          \"[1356578] WLY602040 400 mAh 3.7V single cell Rechargeable LiPo Battery\"\n        ],\n        \"semantic_type\": \"\",\n        \"description\": \"\"\n      }\n    },\n    {\n      \"column\": \"HSN\",\n      \"properties\": {\n        \"dtype\": \"string\",\n        \"num_unique_values\": 4,\n        \"samples\": [\n          \"84799090\",\n          \"996819\",\n          \"85076000\"\n        ],\n        \"semantic_type\": \"\",\n        \"description\": \"\"\n      }\n    },\n    {\n      \"column\": \"Rate\",\n      \"properties\": {\n        \"dtype\": \"string\",\n        \"num_unique_values\": 4,\n        \"samples\": [\n          \"43.220000\",\n          \"0.000000\",\n          \"160.170000\"\n        ],\n        \"semantic_type\": \"\",\n        \"description\": \"\"\n      }\n    },\n    {\n      \"column\": \"Qty\",\n      \"properties\": {\n        \"dtype\": \"string\",\n        \"num_unique_values\": 3,\n        \"samples\": [\n          \"4.00\",\n          \"8.00\",\n          \"1.00\"\n        ],\n        \"semantic_type\": \"\",\n        \"description\": \"\"\n      }\n    },\n    {\n      \"column\": \"Disc\",\n      \"properties\": {\n        \"dtype\": \"category\",\n        \"num_unique_values\": 1,\n        \"samples\": [\n          \"0.00\"\n        ],\n        \"semantic_type\": \"\",\n        \"description\": \"\"\n      }\n    },\n    {\n      \"column\": \"Amount\",\n      \"properties\": {\n        \"dtype\": \"string\",\n        \"num_unique_values\": 4,\n        \"samples\": [\n          \"172.88\"\n        ],\n        \"semantic_type\": \"\",\n        \"description\": \"\"\n      }\n    },\n    {\n      \"column\": \"IGST\",\n      \"properties\": {\n        \"dtype\": \"string\",\n        \"num_unique_values\": 4,\n        \"samples\": [\n          \"31.12 (18.0%)\"\n        ],\n        \"semantic_type\": \"\",\n        \"description\": \"\"\n      }\n    },\n    {\n      \"column\": \"Total\",\n      \"properties\": {\n        \"dtype\": \"string\",\n        \"num_unique_values\": 4,\n        \"samples\": [\n          \"204.00\"\n        ],\n        \"semantic_type\": \"\",\n        \"description\": \"\"\n      }\n    }\n  ]\n}"
            }
          },
          "metadata": {},
          "execution_count": 51
        }
      ]
    },
    {
      "cell_type": "markdown",
      "source": [
        "## Confidence Score Calculation"
      ],
      "metadata": {
        "id": "600enynDY7TL"
      }
    },
    {
      "cell_type": "code",
      "source": [
        "weights = {\n",
        "    \"WER\": 0.8,\n",
        "    \"CER\": 0.3\n",
        "}\n",
        "\n",
        "def calculate_score(scores):\n",
        "  weighted_score = (scores['WER'] * weights['WER']) + (scores['CER'] * weights['CER'])\n",
        "  return 1 - weighted_score / 2"
      ],
      "metadata": {
        "id": "HHdD7barY_Hw"
      },
      "execution_count": 86,
      "outputs": []
    },
    {
      "cell_type": "code",
      "source": [
        "scores = agent(\n",
        "    path = \"/content/page_0.png\",\n",
        "    prompt = validation_prompt.format(data)\n",
        "    )\n",
        "\n",
        "scores = convert_str_to_json(scores)"
      ],
      "metadata": {
        "id": "kPGM5S6qsbBK"
      },
      "execution_count": 87,
      "outputs": []
    },
    {
      "cell_type": "code",
      "source": [
        "scores"
      ],
      "metadata": {
        "colab": {
          "base_uri": "https://localhost:8080/"
        },
        "id": "p5I6_lheUSbG",
        "outputId": "c2d84b1f-a615-405e-d78f-1353df69f710"
      },
      "execution_count": 89,
      "outputs": [
        {
          "output_type": "execute_result",
          "data": {
            "text/plain": [
              "{'WER': 0.016632495821727024, 'CER': 0.003264462809917355}"
            ]
          },
          "metadata": {},
          "execution_count": 89
        }
      ]
    },
    {
      "cell_type": "code",
      "source": [
        "calculate_score(scores)"
      ],
      "metadata": {
        "colab": {
          "base_uri": "https://localhost:8080/"
        },
        "id": "fgUbJl07Tlf5",
        "outputId": "4b08b3b7-82e4-4f5d-ca62-2749cbeeee58"
      },
      "execution_count": 88,
      "outputs": [
        {
          "output_type": "execute_result",
          "data": {
            "text/plain": [
              "0.9928573322498215"
            ]
          },
          "metadata": {},
          "execution_count": 88
        }
      ]
    }
  ]
}